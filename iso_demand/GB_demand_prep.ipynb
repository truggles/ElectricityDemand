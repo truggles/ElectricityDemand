{
 "cells": [
  {
   "cell_type": "code",
   "execution_count": 1,
   "metadata": {},
   "outputs": [],
   "source": [
    "import pandas as pd\n",
    "import numpy as np\n",
    "\n",
    "import time\n",
    "from datetime import datetime, timedelta"
   ]
  },
  {
   "cell_type": "code",
   "execution_count": 2,
   "metadata": {},
   "outputs": [
    {
     "name": "stdout",
     "output_type": "stream",
     "text": [
      "Start date: 2013-01-01 00:00:00\n",
      "End date: 2014-01-01 00:00:00\n",
      "Start date: 2014-01-01 00:00:00\n",
      "End date: 2015-01-01 00:00:00\n",
      "Start date: 2015-01-01 00:00:00\n",
      "End date: 2016-01-01 00:00:00\n",
      "Start date: 2016-01-01 00:00:00\n",
      "End date: 2017-01-01 00:00:00\n",
      "Start date: 2017-01-01 00:00:00\n",
      "End date: 2018-01-01 00:00:00\n",
      "Start date: 2018-01-01 00:00:00\n",
      "End date: 2019-01-01 00:00:00\n",
      "Start date: 2019-01-01 00:00:00\n",
      "End date: 2020-01-01 00:00:00\n"
     ]
    }
   ],
   "source": [
    "def make_date_time_col(df, year):\n",
    "    \n",
    "\n",
    "    \n",
    "    # format for all files based on style of: 01-JAN-2019\n",
    "    fmt = '%d-%b-%Y'\n",
    "    # Always start a beginning of year\n",
    "    # The UK uses UTC+0 in the winter, so we can ingnore any shifts for that.\n",
    "    date = datetime.strptime(f'01-Jan-{year}', fmt)\n",
    "    print(f\"Start date: {date}\")\n",
    "    \n",
    "    date_strs = []\n",
    "    date_times = []\n",
    "    vals = []\n",
    "    #hour = 0\n",
    "    tot = 0.\n",
    "    for idx in df.index:\n",
    "        \n",
    "        date_str = df.loc[idx, 'SETTLEMENT_DATE']\n",
    "        #date = datetime.strptime(date_str, fmt)\n",
    "        period = df.loc[idx, 'SETTLEMENT_PERIOD']\n",
    "        tot += df.loc[idx, 'ENGLAND_WALES_DEMAND']\n",
    "        if int(period)%2==0:\n",
    "            #date_times.append(date + timedelta(hours=hour))\n",
    "            date_times.append(date + timedelta(hours=1)) # Report at end of hour like all others\n",
    "            vals.append(tot)\n",
    "            date_strs.append(date_str+'__'+str(period))\n",
    "            #hour += 1\n",
    "            tot = 0.\n",
    "            date += timedelta(hours=1)\n",
    "    print(f\"End date: {date}\")\n",
    "    tmp_df = pd.DataFrame({\n",
    "        'date_time':date_times,\n",
    "        #'date_strs':date_strs,\n",
    "        'demand (MW)':vals\n",
    "    })\n",
    "    tmp_df.to_csv(f'tmp_GB_{year}.csv')\n",
    "    return tmp_df\n",
    "\n",
    "\n",
    "first = True\n",
    "for year in range(2013, 2020):\n",
    "    df = pd.read_csv(f'GB_{year}.csv')\n",
    "    #print(df.head())\n",
    "    tmp_df = make_date_time_col(df, year)\n",
    "    if first:\n",
    "        first = False\n",
    "        master = tmp_df\n",
    "    else:\n",
    "        master = master.append(tmp_df)\n",
    "master.to_csv('GB_2013-2019.csv', index=False)\n",
    "    "
   ]
  },
  {
   "cell_type": "code",
   "execution_count": null,
   "metadata": {},
   "outputs": [],
   "source": []
  }
 ],
 "metadata": {
  "kernelspec": {
   "display_name": "Python 3",
   "language": "python",
   "name": "python3"
  },
  "language_info": {
   "codemirror_mode": {
    "name": "ipython",
    "version": 3
   },
   "file_extension": ".py",
   "mimetype": "text/x-python",
   "name": "python",
   "nbconvert_exporter": "python",
   "pygments_lexer": "ipython3",
   "version": "3.8.5"
  }
 },
 "nbformat": 4,
 "nbformat_minor": 4
}
